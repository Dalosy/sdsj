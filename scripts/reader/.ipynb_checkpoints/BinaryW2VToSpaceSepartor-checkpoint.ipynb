{
 "cells": [
  {
   "cell_type": "code",
   "execution_count": 3,
   "metadata": {},
   "outputs": [],
   "source": [
    "from gensim.models.keyedvectors import KeyedVectors\n",
    "from tqdm import tqdm"
   ]
  },
  {
   "cell_type": "code",
   "execution_count": 4,
   "metadata": {
    "collapsed": true
   },
   "outputs": [],
   "source": [
    "w2v = KeyedVectors.load_word2vec_format(\"ruwikiruscorpora_0_300_20.bin.gz\", binary=True)"
   ]
  },
  {
   "cell_type": "code",
   "execution_count": 5,
   "metadata": {},
   "outputs": [
    {
     "name": "stderr",
     "output_type": "stream",
     "text": [
      "100%|██████████| 392339/392339 [00:01<00:00, 385548.99it/s]\n"
     ]
    }
   ],
   "source": [
    "word_vecs = {}\n",
    "for word in tqdm(w2v.vocab):\n",
    "    vec = w2v[word]\n",
    "    word = word.replace(\"::\", \"_\")\n",
    "    word = word.split(\"_\")[0]\n",
    "    word_vecs[word] = vec"
   ]
  },
  {
   "cell_type": "code",
   "execution_count": null,
   "metadata": {},
   "outputs": [
    {
     "name": "stderr",
     "output_type": "stream",
     "text": [
      "  4%|▍         | 12969/334157 [00:03<01:17, 4166.14it/s]"
     ]
    }
   ],
   "source": [
    "with open(\"ruwiki_300.txt\", \"wt\") as outfile:\n",
    "    for word, vec in tqdm(word_vecs.items()):\n",
    "        vec = \" \".join([str(i) for i in vec])\n",
    "        wordvec = \" \".join([word, vec])\n",
    "        outfile.write(wordvec + \"\\n\")"
   ]
  },
  {
   "cell_type": "code",
   "execution_count": null,
   "metadata": {
    "collapsed": true
   },
   "outputs": [],
   "source": []
  }
 ],
 "metadata": {
  "kernelspec": {
   "display_name": "Python 3",
   "language": "python",
   "name": "python3"
  },
  "language_info": {
   "codemirror_mode": {
    "name": "ipython",
    "version": 3
   },
   "file_extension": ".py",
   "mimetype": "text/x-python",
   "name": "python",
   "nbconvert_exporter": "python",
   "pygments_lexer": "ipython3",
   "version": "3.6.2"
  },
  "toc": {
   "toc_cell": false,
   "toc_number_sections": true,
   "toc_threshold": 6,
   "toc_window_display": false
  }
 },
 "nbformat": 4,
 "nbformat_minor": 2
}
